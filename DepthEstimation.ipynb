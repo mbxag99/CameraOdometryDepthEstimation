{
 "cells": [
  {
   "cell_type": "code",
   "execution_count": 1,
   "metadata": {},
   "outputs": [],
   "source": [
    "import os\n",
    "import sys\n",
    "\n",
    "import tensorflow as tf\n",
    "from tensorflow.keras import layers\n",
    "\n",
    "import pandas as pd\n",
    "import numpy as np\n",
    "import cv2\n",
    "import matplotlib.pyplot as plt\n",
    "\n",
    "tf.random.set_seed(42069)"
   ]
  },
  {
   "cell_type": "code",
   "execution_count": 2,
   "metadata": {},
   "outputs": [
    {
     "name": "stdout",
     "output_type": "stream",
     "text": [
      "Downloading data from http://diode-dataset.s3.amazonaws.com/val.tar.gz\n",
      "2774630400/2774625282 [==============================] - 4370s 2us/step\n",
      "2774638592/2774625282 [==============================] - 4370s 2us/step\n"
     ]
    }
   ],
   "source": [
    "annotation_folder = \"/dataset/\"\n",
    "if not os.path.exists(os.path.abspath(\".\") + annotation_folder):#74 min\n",
    "    annotation_zip = tf.keras.utils.get_file(\n",
    "        \"val.tar.gz\",\n",
    "        cache_subdir=os.path.abspath(\".\"),\n",
    "        origin=\"http://diode-dataset.s3.amazonaws.com/val.tar.gz\",\n",
    "        extract=True,\n",
    "    )"
   ]
  },
  {
   "cell_type": "code",
   "execution_count": null,
   "metadata": {},
   "outputs": [],
   "source": []
  }
 ],
 "metadata": {
  "kernelspec": {
   "display_name": "Python 3.9.0 64-bit",
   "language": "python",
   "name": "python3"
  },
  "language_info": {
   "codemirror_mode": {
    "name": "ipython",
    "version": 3
   },
   "file_extension": ".py",
   "mimetype": "text/x-python",
   "name": "python",
   "nbconvert_exporter": "python",
   "pygments_lexer": "ipython3",
   "version": "3.9.0"
  },
  "orig_nbformat": 4,
  "vscode": {
   "interpreter": {
    "hash": "11938c6bc6919ae2720b4d5011047913343b08a43b18698fd82dedb0d4417594"
   }
  }
 },
 "nbformat": 4,
 "nbformat_minor": 2
}
